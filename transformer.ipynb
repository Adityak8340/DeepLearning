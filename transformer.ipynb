{
 "cells": [
  {
   "cell_type": "markdown",
   "id": "28b88dc6",
   "metadata": {},
   "source": [
    "We'll start simple, with a single fully-connected neural layer as encoder and as decoder:"
   ]
  },
  {
   "cell_type": "code",
   "execution_count": 1,
   "id": "15e84a7e",
   "metadata": {},
   "outputs": [],
   "source": [
    "import keras\n",
    "from keras import layers\n",
    "\n",
    "# This is the size of our encoded representations\n",
    "encoding_dim = 32  # 32 floats -> compression of factor 24.5, assuming the input is 784 floats\n",
    "\n",
    "# This is our input image\n",
    "input_img = keras.Input(shape=(784,))\n",
    "# \"encoded\" is the encoded representation of the input\n",
    "encoded = layers.Dense(encoding_dim, activation='relu')(input_img)\n",
    "# \"decoded\" is the lossy reconstruction of the input\n",
    "decoded = layers.Dense(784, activation='sigmoid')(encoded)\n",
    "\n",
    "# This model maps an input to its reconstruction\n",
    "autoencoder = keras.Model(input_img, decoded)"
   ]
  },
  {
   "cell_type": "markdown",
   "id": "687dfffd",
   "metadata": {},
   "source": [
    "Let's also create a separate encoder model:"
   ]
  },
  {
   "cell_type": "code",
   "execution_count": 2,
   "id": "0316fd46",
   "metadata": {},
   "outputs": [],
   "source": [
    "# This model maps an input to its encoded representation\n",
    "encoder = keras.Model(input_img, encoded)"
   ]
  },
  {
   "cell_type": "markdown",
   "id": "3cbb6014",
   "metadata": {},
   "source": [
    "As well as the decoder model:"
   ]
  },
  {
   "cell_type": "code",
   "execution_count": 3,
   "id": "cce901a7",
   "metadata": {},
   "outputs": [],
   "source": [
    "# This is our encoded (32-dimensional) input\n",
    "encoded_input = keras.Input(shape=(encoding_dim,))\n",
    "# Retrieve the last layer of the autoencoder model\n",
    "decoder_layer = autoencoder.layers[-1]\n",
    "# Create the decoder model\n",
    "decoder = keras.Model(encoded_input, decoder_layer(encoded_input))"
   ]
  },
  {
   "cell_type": "markdown",
   "id": "fbec1f94",
   "metadata": {},
   "source": [
    "Now let's train our autoencoder to reconstruct MNIST digits.\n",
    "\n",
    "First, we'll configure our model to use a per-pixel binary crossentropy loss, and the Adam optimizer:"
   ]
  },
  {
   "cell_type": "code",
   "execution_count": 4,
   "id": "25ef28b6",
   "metadata": {},
   "outputs": [],
   "source": [
    "autoencoder.compile(optimizer='adam', loss='binary_crossentropy')"
   ]
  },
  {
   "cell_type": "markdown",
   "id": "979eff51",
   "metadata": {},
   "source": [
    "Let's prepare our input data. We're using MNIST digits, and we're discarding the labels (since we're only interested in encoding/decoding the input images)."
   ]
  },
  {
   "cell_type": "code",
   "execution_count": 5,
   "id": "f9fc1adb",
   "metadata": {},
   "outputs": [],
   "source": [
    "from keras.datasets import mnist\n",
    "import numpy as np\n",
    "(x_train, _), (x_test, _) = mnist.load_data()"
   ]
  },
  {
   "cell_type": "markdown",
   "id": "b684c835",
   "metadata": {},
   "source": [
    "We will normalize all values between 0 and 1 and we will flatten the 28x28 images into vectors of size 784."
   ]
  },
  {
   "cell_type": "code",
   "execution_count": 6,
   "id": "a9c90972",
   "metadata": {},
   "outputs": [
    {
     "name": "stdout",
     "output_type": "stream",
     "text": [
      "(60000, 784)\n",
      "(10000, 784)\n"
     ]
    }
   ],
   "source": [
    "x_train = x_train.astype('float32') / 255.\n",
    "x_test = x_test.astype('float32') / 255.\n",
    "x_train = x_train.reshape((len(x_train), np.prod(x_train.shape[1:])))\n",
    "x_test = x_test.reshape((len(x_test), np.prod(x_test.shape[1:])))\n",
    "print(x_train.shape)\n",
    "print(x_test.shape)"
   ]
  },
  {
   "cell_type": "markdown",
   "id": "dc6156c1",
   "metadata": {},
   "source": [
    "Now let's train our autoencoder for 50 epochs:"
   ]
  },
  {
   "cell_type": "code",
   "execution_count": 7,
   "id": "ef4708ce",
   "metadata": {},
   "outputs": [
    {
     "name": "stdout",
     "output_type": "stream",
     "text": [
      "Epoch 1/50\n",
      "235/235 [==============================] - 4s 13ms/step - loss: 0.2777 - val_loss: 0.1945\n",
      "Epoch 2/50\n",
      "235/235 [==============================] - 3s 13ms/step - loss: 0.1741 - val_loss: 0.1554\n",
      "Epoch 3/50\n",
      "235/235 [==============================] - 3s 11ms/step - loss: 0.1454 - val_loss: 0.1343\n",
      "Epoch 4/50\n",
      "235/235 [==============================] - 3s 11ms/step - loss: 0.1289 - val_loss: 0.1216\n",
      "Epoch 5/50\n",
      "235/235 [==============================] - 3s 11ms/step - loss: 0.1183 - val_loss: 0.1129\n",
      "Epoch 6/50\n",
      "235/235 [==============================] - 3s 11ms/step - loss: 0.1110 - val_loss: 0.1070\n",
      "Epoch 7/50\n",
      "235/235 [==============================] - 3s 11ms/step - loss: 0.1060 - val_loss: 0.1029\n",
      "Epoch 8/50\n",
      "235/235 [==============================] - 2s 10ms/step - loss: 0.1024 - val_loss: 0.0997\n",
      "Epoch 9/50\n",
      "235/235 [==============================] - 3s 12ms/step - loss: 0.0998 - val_loss: 0.0975\n",
      "Epoch 10/50\n",
      "235/235 [==============================] - 3s 12ms/step - loss: 0.0979 - val_loss: 0.0959\n",
      "Epoch 11/50\n",
      "235/235 [==============================] - 3s 11ms/step - loss: 0.0966 - val_loss: 0.0948\n",
      "Epoch 12/50\n",
      "235/235 [==============================] - 3s 11ms/step - loss: 0.0957 - val_loss: 0.0941\n",
      "Epoch 13/50\n",
      "235/235 [==============================] - 3s 11ms/step - loss: 0.0951 - val_loss: 0.0936\n",
      "Epoch 14/50\n",
      "235/235 [==============================] - 3s 11ms/step - loss: 0.0947 - val_loss: 0.0932\n",
      "Epoch 15/50\n",
      "235/235 [==============================] - 3s 11ms/step - loss: 0.0944 - val_loss: 0.0929\n",
      "Epoch 16/50\n",
      "235/235 [==============================] - 3s 11ms/step - loss: 0.0941 - val_loss: 0.0928\n",
      "Epoch 17/50\n",
      "235/235 [==============================] - 3s 12ms/step - loss: 0.0939 - val_loss: 0.0926\n",
      "Epoch 18/50\n",
      "235/235 [==============================] - 2s 11ms/step - loss: 0.0938 - val_loss: 0.0924\n",
      "Epoch 19/50\n",
      "235/235 [==============================] - 3s 11ms/step - loss: 0.0936 - val_loss: 0.0923\n",
      "Epoch 20/50\n",
      "235/235 [==============================] - 3s 11ms/step - loss: 0.0935 - val_loss: 0.0922\n",
      "Epoch 21/50\n",
      "235/235 [==============================] - 3s 11ms/step - loss: 0.0934 - val_loss: 0.0921\n",
      "Epoch 22/50\n",
      "235/235 [==============================] - 2s 10ms/step - loss: 0.0934 - val_loss: 0.0920\n",
      "Epoch 23/50\n",
      "235/235 [==============================] - 3s 11ms/step - loss: 0.0933 - val_loss: 0.0919\n",
      "Epoch 24/50\n",
      "235/235 [==============================] - 3s 11ms/step - loss: 0.0932 - val_loss: 0.0919\n",
      "Epoch 25/50\n",
      "235/235 [==============================] - 3s 11ms/step - loss: 0.0932 - val_loss: 0.0919\n",
      "Epoch 26/50\n",
      "235/235 [==============================] - 3s 12ms/step - loss: 0.0931 - val_loss: 0.0919\n",
      "Epoch 27/50\n",
      "235/235 [==============================] - 3s 12ms/step - loss: 0.0931 - val_loss: 0.0918\n",
      "Epoch 28/50\n",
      "235/235 [==============================] - 3s 12ms/step - loss: 0.0930 - val_loss: 0.0918\n",
      "Epoch 29/50\n",
      "235/235 [==============================] - 3s 11ms/step - loss: 0.0930 - val_loss: 0.0917\n",
      "Epoch 30/50\n",
      "235/235 [==============================] - 3s 11ms/step - loss: 0.0929 - val_loss: 0.0917\n",
      "Epoch 31/50\n",
      "235/235 [==============================] - 3s 12ms/step - loss: 0.0929 - val_loss: 0.0917\n",
      "Epoch 32/50\n",
      "235/235 [==============================] - 3s 11ms/step - loss: 0.0929 - val_loss: 0.0917\n",
      "Epoch 33/50\n",
      "235/235 [==============================] - 3s 11ms/step - loss: 0.0929 - val_loss: 0.0916\n",
      "Epoch 34/50\n",
      "235/235 [==============================] - 3s 11ms/step - loss: 0.0928 - val_loss: 0.0916\n",
      "Epoch 35/50\n",
      "235/235 [==============================] - 3s 11ms/step - loss: 0.0928 - val_loss: 0.0916\n",
      "Epoch 36/50\n",
      "235/235 [==============================] - 3s 11ms/step - loss: 0.0928 - val_loss: 0.0916\n",
      "Epoch 37/50\n",
      "235/235 [==============================] - 3s 11ms/step - loss: 0.0928 - val_loss: 0.0915\n",
      "Epoch 38/50\n",
      "235/235 [==============================] - 3s 11ms/step - loss: 0.0927 - val_loss: 0.0915\n",
      "Epoch 39/50\n",
      "235/235 [==============================] - 2s 10ms/step - loss: 0.0927 - val_loss: 0.0915\n",
      "Epoch 40/50\n",
      "235/235 [==============================] - 2s 10ms/step - loss: 0.0927 - val_loss: 0.0915\n",
      "Epoch 41/50\n",
      "235/235 [==============================] - 2s 9ms/step - loss: 0.0927 - val_loss: 0.0915\n",
      "Epoch 42/50\n",
      "235/235 [==============================] - 2s 10ms/step - loss: 0.0927 - val_loss: 0.0915\n",
      "Epoch 43/50\n",
      "235/235 [==============================] - 2s 10ms/step - loss: 0.0927 - val_loss: 0.0914\n",
      "Epoch 44/50\n",
      "235/235 [==============================] - 3s 11ms/step - loss: 0.0927 - val_loss: 0.0915\n",
      "Epoch 45/50\n",
      "235/235 [==============================] - 3s 11ms/step - loss: 0.0927 - val_loss: 0.0915\n",
      "Epoch 46/50\n",
      "235/235 [==============================] - 3s 11ms/step - loss: 0.0926 - val_loss: 0.0915\n",
      "Epoch 47/50\n",
      "235/235 [==============================] - 2s 10ms/step - loss: 0.0926 - val_loss: 0.0915\n",
      "Epoch 48/50\n",
      "235/235 [==============================] - 2s 9ms/step - loss: 0.0926 - val_loss: 0.0915\n",
      "Epoch 49/50\n",
      "235/235 [==============================] - 2s 8ms/step - loss: 0.0926 - val_loss: 0.0914\n",
      "Epoch 50/50\n",
      "235/235 [==============================] - 2s 8ms/step - loss: 0.0926 - val_loss: 0.0915\n"
     ]
    },
    {
     "data": {
      "text/plain": [
       "<keras.src.callbacks.History at 0x1dff297f210>"
      ]
     },
     "execution_count": 7,
     "metadata": {},
     "output_type": "execute_result"
    }
   ],
   "source": [
    "autoencoder.fit(x_train, x_train,\n",
    "                epochs=50,\n",
    "                batch_size=256,\n",
    "                shuffle=True,\n",
    "                validation_data=(x_test, x_test))"
   ]
  },
  {
   "cell_type": "markdown",
   "id": "973d8608",
   "metadata": {},
   "source": [
    "After 50 epochs, the autoencoder seems to reach a stable train/validation loss value of about 0.09. We can try to visualize the reconstructed inputs and the encoded representations. We will use Matplotlib."
   ]
  },
  {
   "cell_type": "code",
   "execution_count": 8,
   "id": "13e9607d",
   "metadata": {},
   "outputs": [
    {
     "name": "stdout",
     "output_type": "stream",
     "text": [
      "313/313 [==============================] - 1s 1ms/step\n",
      "313/313 [==============================] - 1s 2ms/step\n"
     ]
    }
   ],
   "source": [
    "# Encode and decode some digits\n",
    "# Note that we take them from the *test* set\n",
    "encoded_imgs = encoder.predict(x_test)\n",
    "decoded_imgs = decoder.predict(encoded_imgs)"
   ]
  },
  {
   "cell_type": "code",
   "execution_count": 9,
   "id": "6ac7af06",
   "metadata": {},
   "outputs": [
    {
     "data": {
      "image/png": "[encoded data removed]",
      "text/plain": [
       "<Figure size 2000x400 with 20 Axes>"
      ]
     },
     "metadata": {},
     "output_type": "display_data"
    }
   ],
   "source": [
    "# Use Matplotlib (don't ask)\n",
    "import matplotlib.pyplot as plt\n",
    "\n",
    "n = 10  # How many digits we will display\n",
    "plt.figure(figsize=(20, 4))\n",
    "for i in range(n):\n",
    "    # Display original\n",
    "    ax = plt.subplot(2, n, i + 1)\n",
    "    plt.imshow(x_test[i].reshape(28, 28))\n",
    "    plt.gray()\n",
    "    ax.get_xaxis().set_visible(False)\n",
    "    ax.get_yaxis().set_visible(False)\n",
    "\n",
    "    # Display reconstruction\n",
    "    ax = plt.subplot(2, n, i + 1 + n)\n",
    "    plt.imshow(decoded_imgs[i].reshape(28, 28))\n",
    "    plt.gray()\n",
    "    ax.get_xaxis().set_visible(False)\n",
    "    ax.get_yaxis().set_visible(False)\n",
    "plt.show()"
   ]
  },
  {
   "cell_type": "markdown",
   "id": "c31aa842",
   "metadata": {},
   "source": [
    "Deep autoencoder"
   ]
  },
  {
   "cell_type": "code",
   "execution_count": 10,
   "id": "61ab82d8",
   "metadata": {},
   "outputs": [],
   "source": [
    "input_img = keras.Input(shape=(784,))\n",
    "encoded = layers.Dense(128, activation='relu')(input_img)\n",
    "encoded = layers.Dense(64, activation='relu')(encoded)\n",
    "encoded = layers.Dense(32, activation='relu')(encoded)\n",
    "\n",
    "decoded = layers.Dense(64, activation='relu')(encoded)\n",
    "decoded = layers.Dense(128, activation='relu')(decoded)\n",
    "decoded = layers.Dense(784, activation='sigmoid')(decoded)"
   ]
  },
  {
   "cell_type": "code",
   "execution_count": 11,
   "id": "f876b2d0",
   "metadata": {},
   "outputs": [],
   "source": [
    "from keras.datasets import mnist\n",
    "import numpy as np\n",
    "(x_train, _), (x_test, _) = mnist.load_data()"
   ]
  },
  {
   "cell_type": "code",
   "execution_count": 12,
   "id": "dd38b274",
   "metadata": {},
   "outputs": [
    {
     "name": "stdout",
     "output_type": "stream",
     "text": [
      "(60000, 784)\n",
      "(10000, 784)\n"
     ]
    }
   ],
   "source": [
    "x_train = x_train.astype('float32') / 255.\n",
    "x_test = x_test.astype('float32') / 255.\n",
    "x_train = x_train.reshape((len(x_train), np.prod(x_train.shape[1:])))\n",
    "x_test = x_test.reshape((len(x_test), np.prod(x_test.shape[1:])))\n",
    "print(x_train.shape)\n",
    "print(x_test.shape)"
   ]
  },
  {
   "cell_type": "code",
   "execution_count": 13,
   "id": "68cd67a0",
   "metadata": {},
   "outputs": [
    {
     "name": "stdout",
     "output_type": "stream",
     "text": [
      "Epoch 1/100\n",
      "235/235 [==============================] - 7s 19ms/step - loss: 0.2469 - val_loss: 0.1652\n",
      "Epoch 2/100\n",
      "235/235 [==============================] - 4s 17ms/step - loss: 0.1500 - val_loss: 0.1357\n",
      "Epoch 3/100\n",
      "235/235 [==============================] - 3s 14ms/step - loss: 0.1292 - val_loss: 0.1210\n",
      "Epoch 4/100\n",
      "235/235 [==============================] - 3s 13ms/step - loss: 0.1189 - val_loss: 0.1142\n",
      "Epoch 5/100\n",
      "235/235 [==============================] - 3s 14ms/step - loss: 0.1134 - val_loss: 0.1103\n",
      "Epoch 6/100\n",
      "235/235 [==============================] - 4s 17ms/step - loss: 0.1099 - val_loss: 0.1067\n",
      "Epoch 7/100\n",
      "235/235 [==============================] - 4s 17ms/step - loss: 0.1069 - val_loss: 0.1046\n",
      "Epoch 8/100\n",
      "235/235 [==============================] - 4s 17ms/step - loss: 0.1047 - val_loss: 0.1033\n",
      "Epoch 9/100\n",
      "235/235 [==============================] - 4s 16ms/step - loss: 0.1029 - val_loss: 0.1007\n",
      "Epoch 10/100\n",
      "235/235 [==============================] - 4s 18ms/step - loss: 0.1011 - val_loss: 0.0990\n",
      "Epoch 11/100\n",
      "235/235 [==============================] - 4s 18ms/step - loss: 0.0993 - val_loss: 0.0975\n",
      "Epoch 12/100\n",
      "235/235 [==============================] - 4s 17ms/step - loss: 0.0977 - val_loss: 0.0960\n",
      "Epoch 13/100\n",
      "235/235 [==============================] - 4s 15ms/step - loss: 0.0964 - val_loss: 0.0948\n",
      "Epoch 14/100\n",
      "235/235 [==============================] - 4s 16ms/step - loss: 0.0953 - val_loss: 0.0941\n",
      "Epoch 15/100\n",
      "235/235 [==============================] - 4s 18ms/step - loss: 0.0945 - val_loss: 0.0930\n",
      "Epoch 16/100\n",
      "235/235 [==============================] - 3s 14ms/step - loss: 0.0937 - val_loss: 0.0928\n",
      "Epoch 17/100\n",
      "235/235 [==============================] - 3s 14ms/step - loss: 0.0931 - val_loss: 0.0919\n",
      "Epoch 18/100\n",
      "235/235 [==============================] - 4s 17ms/step - loss: 0.0925 - val_loss: 0.0913\n",
      "Epoch 19/100\n",
      "235/235 [==============================] - 4s 16ms/step - loss: 0.0919 - val_loss: 0.0909\n",
      "Epoch 20/100\n",
      "235/235 [==============================] - 4s 17ms/step - loss: 0.0914 - val_loss: 0.0908\n",
      "Epoch 21/100\n",
      "235/235 [==============================] - 4s 16ms/step - loss: 0.0909 - val_loss: 0.0899\n",
      "Epoch 22/100\n",
      "235/235 [==============================] - 4s 16ms/step - loss: 0.0904 - val_loss: 0.0894\n",
      "Epoch 23/100\n",
      "235/235 [==============================] - 4s 16ms/step - loss: 0.0900 - val_loss: 0.0889\n",
      "Epoch 24/100\n",
      "235/235 [==============================] - 4s 16ms/step - loss: 0.0897 - val_loss: 0.0888\n",
      "Epoch 25/100\n",
      "235/235 [==============================] - 4s 16ms/step - loss: 0.0893 - val_loss: 0.0886\n",
      "Epoch 26/100\n",
      "235/235 [==============================] - 4s 16ms/step - loss: 0.0889 - val_loss: 0.0882\n",
      "Epoch 27/100\n",
      "235/235 [==============================] - 4s 16ms/step - loss: 0.0887 - val_loss: 0.0877\n",
      "Epoch 28/100\n",
      "235/235 [==============================] - 4s 16ms/step - loss: 0.0883 - val_loss: 0.0875\n",
      "Epoch 29/100\n",
      "235/235 [==============================] - 4s 16ms/step - loss: 0.0881 - val_loss: 0.0872\n",
      "Epoch 30/100\n",
      "235/235 [==============================] - 4s 16ms/step - loss: 0.0878 - val_loss: 0.0872\n",
      "Epoch 31/100\n",
      "235/235 [==============================] - 4s 16ms/step - loss: 0.0876 - val_loss: 0.0876\n",
      "Epoch 32/100\n",
      "235/235 [==============================] - 4s 17ms/step - loss: 0.0873 - val_loss: 0.0866\n",
      "Epoch 33/100\n",
      "235/235 [==============================] - 4s 17ms/step - loss: 0.0871 - val_loss: 0.0863\n",
      "Epoch 34/100\n",
      "235/235 [==============================] - 4s 17ms/step - loss: 0.0869 - val_loss: 0.0863\n",
      "Epoch 35/100\n",
      "235/235 [==============================] - 4s 16ms/step - loss: 0.0867 - val_loss: 0.0860\n",
      "Epoch 36/100\n",
      "235/235 [==============================] - 4s 16ms/step - loss: 0.0865 - val_loss: 0.0858\n",
      "Epoch 37/100\n",
      "235/235 [==============================] - 4s 16ms/step - loss: 0.0862 - val_loss: 0.0857\n",
      "Epoch 38/100\n",
      "235/235 [==============================] - 4s 15ms/step - loss: 0.0861 - val_loss: 0.0855\n",
      "Epoch 39/100\n",
      "235/235 [==============================] - 3s 15ms/step - loss: 0.0858 - val_loss: 0.0853\n",
      "Epoch 40/100\n",
      "235/235 [==============================] - 3s 14ms/step - loss: 0.0856 - val_loss: 0.0851\n",
      "Epoch 41/100\n",
      "235/235 [==============================] - 4s 16ms/step - loss: 0.0855 - val_loss: 0.0851\n",
      "Epoch 42/100\n",
      "235/235 [==============================] - 4s 15ms/step - loss: 0.0853 - val_loss: 0.0850\n",
      "Epoch 43/100\n",
      "235/235 [==============================] - 3s 14ms/step - loss: 0.0851 - val_loss: 0.0846\n",
      "Epoch 44/100\n",
      "235/235 [==============================] - 4s 15ms/step - loss: 0.0849 - val_loss: 0.0846\n",
      "Epoch 45/100\n",
      "235/235 [==============================] - 4s 16ms/step - loss: 0.0847 - val_loss: 0.0843\n",
      "Epoch 46/100\n",
      "235/235 [==============================] - 4s 16ms/step - loss: 0.0847 - val_loss: 0.0845\n",
      "Epoch 47/100\n",
      "235/235 [==============================] - 4s 15ms/step - loss: 0.0846 - val_loss: 0.0840\n",
      "Epoch 48/100\n",
      "235/235 [==============================] - 4s 16ms/step - loss: 0.0844 - val_loss: 0.0840\n",
      "Epoch 49/100\n",
      "235/235 [==============================] - 4s 15ms/step - loss: 0.0843 - val_loss: 0.0838\n",
      "Epoch 50/100\n",
      "235/235 [==============================] - 4s 16ms/step - loss: 0.0842 - val_loss: 0.0838\n",
      "Epoch 51/100\n",
      "235/235 [==============================] - 4s 16ms/step - loss: 0.0841 - val_loss: 0.0837\n",
      "Epoch 52/100\n",
      "235/235 [==============================] - 3s 15ms/step - loss: 0.0840 - val_loss: 0.0838\n",
      "Epoch 53/100\n",
      "235/235 [==============================] - 3s 14ms/step - loss: 0.0839 - val_loss: 0.0833\n",
      "Epoch 54/100\n",
      "235/235 [==============================] - 3s 14ms/step - loss: 0.0838 - val_loss: 0.0833\n",
      "Epoch 55/100\n",
      "235/235 [==============================] - 4s 16ms/step - loss: 0.0837 - val_loss: 0.0832\n",
      "Epoch 56/100\n",
      "235/235 [==============================] - 4s 17ms/step - loss: 0.0836 - val_loss: 0.0833\n",
      "Epoch 57/100\n",
      "235/235 [==============================] - 4s 16ms/step - loss: 0.0835 - val_loss: 0.0832\n",
      "Epoch 58/100\n",
      "235/235 [==============================] - 4s 15ms/step - loss: 0.0835 - val_loss: 0.0832\n",
      "Epoch 59/100\n",
      "235/235 [==============================] - 4s 16ms/step - loss: 0.0834 - val_loss: 0.0829\n",
      "Epoch 60/100\n",
      "235/235 [==============================] - 4s 16ms/step - loss: 0.0833 - val_loss: 0.0831\n",
      "Epoch 61/100\n",
      "235/235 [==============================] - 4s 17ms/step - loss: 0.0832 - val_loss: 0.0829\n",
      "Epoch 62/100\n",
      "235/235 [==============================] - 4s 16ms/step - loss: 0.0832 - val_loss: 0.0829\n",
      "Epoch 63/100\n",
      "235/235 [==============================] - 4s 16ms/step - loss: 0.0831 - val_loss: 0.0827\n",
      "Epoch 64/100\n",
      "235/235 [==============================] - 4s 16ms/step - loss: 0.0831 - val_loss: 0.0827\n",
      "Epoch 65/100\n",
      "235/235 [==============================] - 4s 16ms/step - loss: 0.0830 - val_loss: 0.0827\n",
      "Epoch 66/100\n",
      "235/235 [==============================] - 4s 16ms/step - loss: 0.0830 - val_loss: 0.0829\n",
      "Epoch 67/100\n",
      "235/235 [==============================] - 4s 16ms/step - loss: 0.0829 - val_loss: 0.0827\n",
      "Epoch 68/100\n",
      "235/235 [==============================] - 4s 15ms/step - loss: 0.0829 - val_loss: 0.0826\n",
      "Epoch 69/100\n",
      "235/235 [==============================] - 4s 15ms/step - loss: 0.0828 - val_loss: 0.0824\n",
      "Epoch 70/100\n",
      "235/235 [==============================] - 4s 16ms/step - loss: 0.0828 - val_loss: 0.0826\n",
      "Epoch 71/100\n",
      "235/235 [==============================] - 4s 16ms/step - loss: 0.0828 - val_loss: 0.0825\n",
      "Epoch 72/100\n",
      "235/235 [==============================] - 4s 16ms/step - loss: 0.0826 - val_loss: 0.0824\n",
      "Epoch 73/100\n",
      "235/235 [==============================] - 4s 16ms/step - loss: 0.0826 - val_loss: 0.0824\n",
      "Epoch 74/100\n",
      "235/235 [==============================] - 4s 15ms/step - loss: 0.0825 - val_loss: 0.0823\n",
      "Epoch 75/100\n",
      "235/235 [==============================] - 4s 15ms/step - loss: 0.0826 - val_loss: 0.0824\n",
      "Epoch 76/100\n",
      "235/235 [==============================] - 4s 16ms/step - loss: 0.0825 - val_loss: 0.0823\n",
      "Epoch 77/100\n",
      "235/235 [==============================] - 4s 16ms/step - loss: 0.0825 - val_loss: 0.0823\n",
      "Epoch 78/100\n",
      "235/235 [==============================] - 4s 16ms/step - loss: 0.0824 - val_loss: 0.0819\n",
      "Epoch 79/100\n",
      "235/235 [==============================] - 4s 15ms/step - loss: 0.0824 - val_loss: 0.0821\n",
      "Epoch 80/100\n",
      "235/235 [==============================] - 4s 17ms/step - loss: 0.0823 - val_loss: 0.0822\n",
      "Epoch 81/100\n",
      "235/235 [==============================] - 4s 15ms/step - loss: 0.0823 - val_loss: 0.0820\n",
      "Epoch 82/100\n",
      "235/235 [==============================] - 3s 15ms/step - loss: 0.0822 - val_loss: 0.0820\n",
      "Epoch 83/100\n",
      "235/235 [==============================] - 4s 15ms/step - loss: 0.0822 - val_loss: 0.0821\n",
      "Epoch 84/100\n",
      "235/235 [==============================] - 4s 16ms/step - loss: 0.0822 - val_loss: 0.0820\n",
      "Epoch 85/100\n",
      "235/235 [==============================] - 4s 16ms/step - loss: 0.0821 - val_loss: 0.0820\n",
      "Epoch 86/100\n",
      "235/235 [==============================] - 4s 15ms/step - loss: 0.0821 - val_loss: 0.0819\n",
      "Epoch 87/100\n",
      "235/235 [==============================] - 4s 15ms/step - loss: 0.0821 - val_loss: 0.0819\n",
      "Epoch 88/100\n",
      "235/235 [==============================] - 4s 17ms/step - loss: 0.0820 - val_loss: 0.0819\n",
      "Epoch 89/100\n",
      "235/235 [==============================] - 4s 15ms/step - loss: 0.0820 - val_loss: 0.0820\n",
      "Epoch 90/100\n",
      "235/235 [==============================] - 3s 15ms/step - loss: 0.0820 - val_loss: 0.0818\n",
      "Epoch 91/100\n",
      "235/235 [==============================] - 4s 17ms/step - loss: 0.0820 - val_loss: 0.0818\n",
      "Epoch 92/100\n",
      "235/235 [==============================] - 4s 16ms/step - loss: 0.0819 - val_loss: 0.0819\n",
      "Epoch 93/100\n",
      "235/235 [==============================] - 4s 15ms/step - loss: 0.0819 - val_loss: 0.0819\n",
      "Epoch 94/100\n",
      "235/235 [==============================] - 4s 15ms/step - loss: 0.0819 - val_loss: 0.0815\n",
      "Epoch 95/100\n",
      "235/235 [==============================] - 3s 15ms/step - loss: 0.0819 - val_loss: 0.0818\n",
      "Epoch 96/100\n",
      "235/235 [==============================] - 4s 16ms/step - loss: 0.0818 - val_loss: 0.0817\n",
      "Epoch 97/100\n",
      "235/235 [==============================] - 4s 16ms/step - loss: 0.0818 - val_loss: 0.0817\n",
      "Epoch 98/100\n",
      "235/235 [==============================] - 4s 17ms/step - loss: 0.0818 - val_loss: 0.0816\n",
      "Epoch 99/100\n",
      "235/235 [==============================] - 4s 17ms/step - loss: 0.0817 - val_loss: 0.0818\n",
      "Epoch 100/100\n",
      "235/235 [==============================] - 4s 17ms/step - loss: 0.0817 - val_loss: 0.0816\n"
     ]
    },
    {
     "data": {
      "text/plain": [
       "<keras.src.callbacks.History at 0x1df85bfd050>"
      ]
     },
     "execution_count": 13,
     "metadata": {},
     "output_type": "execute_result"
    }
   ],
   "source": [
    "autoencoder = keras.Model(input_img, decoded)\n",
    "autoencoder.compile(optimizer='adam', loss='binary_crossentropy')\n",
    "\n",
    "autoencoder.fit(x_train, x_train,\n",
    "                epochs=100,\n",
    "                batch_size=256,\n",
    "                shuffle=True,\n",
    "                validation_data=(x_test, x_test))"
   ]
  },
  {
   "cell_type": "code",
   "execution_count": 14,
   "id": "cf2e3963",
   "metadata": {},
   "outputs": [
    {
     "name": "stdout",
     "output_type": "stream",
     "text": [
      "313/313 [==============================] - 1s 2ms/step\n",
      "313/313 [==============================] - 1s 2ms/step\n"
     ]
    }
   ],
   "source": [
    "# Encode and decode some digits\n",
    "# Note that we take them from the *test* set\n",
    "encoded_imgs = encoder.predict(x_test)\n",
    "decoded_imgs = decoder.predict(encoded_imgs)"
   ]
  },
  {
   "cell_type": "code",
   "execution_count": 15,
   "id": "3a686095",
   "metadata": {},
   "outputs": [
    {
     "data": {
      "image/png": "[encoded data removed]",
      "text/plain": [
       "<Figure size 2000x400 with 20 Axes>"
      ]
     },
     "metadata": {},
     "output_type": "display_data"
    }
   ],
   "source": [
    "# Use Matplotlib (don't ask)\n",
    "import matplotlib.pyplot as plt\n",
    "\n",
    "n = 10  # How many digits we will display\n",
    "plt.figure(figsize=(20, 4))\n",
    "for i in range(n):\n",
    "    # Display original\n",
    "    ax = plt.subplot(2, n, i + 1)\n",
    "    plt.imshow(x_test[i].reshape(28, 28))\n",
    "    plt.gray()\n",
    "    ax.get_xaxis().set_visible(False)\n",
    "    ax.get_yaxis().set_visible(False)\n",
    "\n",
    "    # Display reconstruction\n",
    "    ax = plt.subplot(2, n, i + 1 + n)\n",
    "    plt.imshow(decoded_imgs[i].reshape(28, 28))\n",
    "    plt.gray()\n",
    "    ax.get_xaxis().set_visible(False)\n",
    "    ax.get_yaxis().set_visible(False)\n",
    "plt.show()"
   ]
  },
  {
   "cell_type": "markdown",
   "id": "a09eda73",
   "metadata": {},
   "source": [
    "Application to image denoising\n",
    "\n",
    "Let's put our convolutional autoencoder to work on an image denoising problem. It's simple: we will train the autoencoder to map noisy digits images to clean digits images.\n",
    "\n",
    "Here's how we will generate synthetic noisy digits: we just apply a gaussian noise matrix and clip the images between 0 and 1."
   ]
  },
  {
   "cell_type": "code",
   "execution_count": 16,
   "id": "8135fa98",
   "metadata": {},
   "outputs": [],
   "source": [
    "from keras.datasets import mnist\n",
    "import numpy as np\n",
    "\n",
    "(x_train, _), (x_test, _) = mnist.load_data()\n",
    "\n",
    "x_train = x_train.astype('float32') / 255.\n",
    "x_test = x_test.astype('float32') / 255.\n",
    "x_train = np.reshape(x_train, (len(x_train), 28, 28, 1))\n",
    "x_test = np.reshape(x_test, (len(x_test), 28, 28, 1))\n",
    "\n",
    "noise_factor = 0.5\n",
    "x_train_noisy = x_train + noise_factor * np.random.normal(loc=0.0, scale=1.0, size=x_train.shape) \n",
    "x_test_noisy = x_test + noise_factor * np.random.normal(loc=0.0, scale=1.0, size=x_test.shape) \n",
    "\n",
    "x_train_noisy = np.clip(x_train_noisy, 0., 1.)\n",
    "x_test_noisy = np.clip(x_test_noisy, 0., 1.)"
   ]
  },
  {
   "cell_type": "code",
   "execution_count": 17,
   "id": "fab292c3",
   "metadata": {},
   "outputs": [
    {
     "data": {
      "image/png": "[encoded data removed]",
      "text/plain": [
       "<Figure size 2000x200 with 10 Axes>"
      ]
     },
     "metadata": {},
     "output_type": "display_data"
    }
   ],
   "source": [
    "n = 10\n",
    "plt.figure(figsize=(20, 2))\n",
    "for i in range(1, n + 1):\n",
    "    ax = plt.subplot(1, n, i)\n",
    "    plt.imshow(x_test_noisy[i].reshape(28, 28))\n",
    "    plt.gray()\n",
    "    ax.get_xaxis().set_visible(False)\n",
    "    ax.get_yaxis().set_visible(False)\n",
    "plt.show()"
   ]
  },
  {
   "cell_type": "code",
   "execution_count": 18,
   "id": "18e6c8c7",
   "metadata": {},
   "outputs": [],
   "source": [
    "input_img = keras.Input(shape=(28, 28, 1))\n",
    "\n",
    "x = layers.Conv2D(32, (3, 3), activation='relu', padding='same')(input_img)\n",
    "x = layers.MaxPooling2D((2, 2), padding='same')(x)\n",
    "x = layers.Conv2D(32, (3, 3), activation='relu', padding='same')(x)\n",
    "encoded = layers.MaxPooling2D((2, 2), padding='same')(x)\n",
    "\n",
    "# At this point the representation is (7, 7, 32)\n",
    "\n",
    "x = layers.Conv2D(32, (3, 3), activation='relu', padding='same')(encoded)\n",
    "x = layers.UpSampling2D((2, 2))(x)\n",
    "x = layers.Conv2D(32, (3, 3), activation='relu', padding='same')(x)\n",
    "x = layers.UpSampling2D((2, 2))(x)\n",
    "decoded = layers.Conv2D(1, (3, 3), activation='sigmoid', padding='same')(x)\n",
    "\n",
    "autoencoder = keras.Model(input_img, decoded)\n",
    "autoencoder.compile(optimizer='adam', loss='binary_crossentropy')"
   ]
  },
  {
   "cell_type": "code",
   "execution_count": 21,
   "id": "b89aa1ee",
   "metadata": {},
   "outputs": [
    {
     "name": "stdout",
     "output_type": "stream",
     "text": [
      "Epoch 1/100\n",
      "469/469 [==============================] - 149s 316ms/step - loss: 0.0930 - val_loss: 0.0931\n",
      "Epoch 2/100\n",
      "469/469 [==============================] - 154s 328ms/step - loss: 0.0930 - val_loss: 0.0932\n",
      "Epoch 3/100\n",
      "469/469 [==============================] - 157s 334ms/step - loss: 0.0930 - val_loss: 0.0930\n",
      "Epoch 4/100\n",
      "469/469 [==============================] - 156s 332ms/step - loss: 0.0930 - val_loss: 0.0932\n",
      "Epoch 5/100\n",
      "469/469 [==============================] - 156s 334ms/step - loss: 0.0930 - val_loss: 0.0929\n",
      "Epoch 6/100\n",
      "469/469 [==============================] - 151s 321ms/step - loss: 0.0930 - val_loss: 0.0930\n",
      "Epoch 7/100\n",
      "469/469 [==============================] - 154s 328ms/step - loss: 0.0929 - val_loss: 0.0932\n",
      "Epoch 8/100\n",
      "469/469 [==============================] - 156s 332ms/step - loss: 0.0930 - val_loss: 0.0930\n",
      "Epoch 9/100\n",
      "469/469 [==============================] - 157s 335ms/step - loss: 0.0929 - val_loss: 0.0930\n",
      "Epoch 10/100\n",
      "469/469 [==============================] - 160s 340ms/step - loss: 0.0930 - val_loss: 0.0929\n",
      "Epoch 11/100\n",
      "469/469 [==============================] - 3945s 8s/step - loss: 0.0930 - val_loss: 0.0932\n",
      "Epoch 12/100\n",
      "469/469 [==============================] - 72s 154ms/step - loss: 0.0929 - val_loss: 0.0931\n",
      "Epoch 13/100\n",
      "469/469 [==============================] - 71s 151ms/step - loss: 0.0929 - val_loss: 0.0930\n",
      "Epoch 14/100\n",
      "469/469 [==============================] - 71s 151ms/step - loss: 0.0929 - val_loss: 0.0933\n",
      "Epoch 15/100\n",
      "469/469 [==============================] - 71s 152ms/step - loss: 0.0929 - val_loss: 0.0932\n",
      "Epoch 16/100\n",
      "469/469 [==============================] - 71s 151ms/step - loss: 0.0929 - val_loss: 0.0931\n",
      "Epoch 17/100\n",
      "469/469 [==============================] - 72s 153ms/step - loss: 0.0929 - val_loss: 0.0930\n",
      "Epoch 18/100\n",
      "469/469 [==============================] - 73s 155ms/step - loss: 0.0929 - val_loss: 0.0930\n",
      "Epoch 19/100\n",
      "469/469 [==============================] - 77s 164ms/step - loss: 0.0928 - val_loss: 0.0931\n",
      "Epoch 20/100\n",
      "469/469 [==============================] - 77s 164ms/step - loss: 0.0928 - val_loss: 0.0929\n",
      "Epoch 21/100\n",
      "469/469 [==============================] - 74s 158ms/step - loss: 0.0929 - val_loss: 0.0930\n",
      "Epoch 22/100\n",
      "469/469 [==============================] - 73s 156ms/step - loss: 0.0929 - val_loss: 0.0930\n",
      "Epoch 23/100\n",
      "469/469 [==============================] - 75s 159ms/step - loss: 0.0928 - val_loss: 0.0928\n",
      "Epoch 24/100\n",
      "469/469 [==============================] - 73s 156ms/step - loss: 0.0929 - val_loss: 0.0928\n",
      "Epoch 25/100\n",
      "469/469 [==============================] - 82s 176ms/step - loss: 0.0928 - val_loss: 0.0931\n",
      "Epoch 26/100\n",
      "469/469 [==============================] - 89s 190ms/step - loss: 0.0928 - val_loss: 0.0929\n",
      "Epoch 27/100\n",
      "469/469 [==============================] - 79s 169ms/step - loss: 0.0928 - val_loss: 0.0928\n",
      "Epoch 28/100\n",
      "469/469 [==============================] - 81s 173ms/step - loss: 0.0928 - val_loss: 0.0930\n",
      "Epoch 29/100\n",
      "469/469 [==============================] - 85s 181ms/step - loss: 0.0928 - val_loss: 0.0929\n",
      "Epoch 30/100\n",
      "469/469 [==============================] - 97s 206ms/step - loss: 0.0928 - val_loss: 0.0929\n",
      "Epoch 31/100\n",
      "469/469 [==============================] - 82s 174ms/step - loss: 0.0928 - val_loss: 0.0931\n",
      "Epoch 32/100\n",
      "469/469 [==============================] - 84s 180ms/step - loss: 0.0928 - val_loss: 0.0935\n",
      "Epoch 33/100\n",
      "469/469 [==============================] - 96s 204ms/step - loss: 0.0928 - val_loss: 0.0928\n",
      "Epoch 34/100\n",
      "469/469 [==============================] - 88s 187ms/step - loss: 0.0928 - val_loss: 0.0928\n",
      "Epoch 35/100\n",
      "469/469 [==============================] - 85s 181ms/step - loss: 0.0928 - val_loss: 0.0928\n",
      "Epoch 36/100\n",
      "469/469 [==============================] - 93s 198ms/step - loss: 0.0928 - val_loss: 0.0932\n",
      "Epoch 37/100\n",
      "469/469 [==============================] - 89s 191ms/step - loss: 0.0928 - val_loss: 0.0929\n",
      "Epoch 38/100\n",
      "469/469 [==============================] - 89s 190ms/step - loss: 0.0927 - val_loss: 0.0930\n",
      "Epoch 39/100\n",
      "469/469 [==============================] - 79s 169ms/step - loss: 0.0927 - val_loss: 0.0929\n",
      "Epoch 40/100\n",
      "469/469 [==============================] - 90s 192ms/step - loss: 0.0927 - val_loss: 0.0928\n",
      "Epoch 41/100\n",
      "469/469 [==============================] - 96s 204ms/step - loss: 0.0928 - val_loss: 0.0928\n",
      "Epoch 42/100\n",
      "469/469 [==============================] - 90s 192ms/step - loss: 0.0927 - val_loss: 0.0928\n",
      "Epoch 43/100\n",
      "469/469 [==============================] - 105s 223ms/step - loss: 0.0927 - val_loss: 0.0929\n",
      "Epoch 44/100\n",
      "469/469 [==============================] - 92s 197ms/step - loss: 0.0927 - val_loss: 0.0928\n",
      "Epoch 45/100\n",
      "469/469 [==============================] - 96s 204ms/step - loss: 0.0927 - val_loss: 0.0929\n",
      "Epoch 46/100\n",
      "469/469 [==============================] - 91s 194ms/step - loss: 0.0927 - val_loss: 0.0930\n",
      "Epoch 47/100\n",
      "469/469 [==============================] - 91s 194ms/step - loss: 0.0927 - val_loss: 0.0932\n",
      "Epoch 48/100\n",
      "469/469 [==============================] - 100s 214ms/step - loss: 0.0927 - val_loss: 0.0930\n",
      "Epoch 49/100\n",
      "469/469 [==============================] - 108s 230ms/step - loss: 0.0927 - val_loss: 0.0928\n",
      "Epoch 50/100\n",
      "469/469 [==============================] - 111s 237ms/step - loss: 0.0927 - val_loss: 0.0928\n",
      "Epoch 51/100\n",
      "469/469 [==============================] - 106s 226ms/step - loss: 0.0928 - val_loss: 0.0933\n",
      "Epoch 52/100\n",
      "469/469 [==============================] - 83s 176ms/step - loss: 0.0927 - val_loss: 0.0928\n",
      "Epoch 53/100\n",
      "469/469 [==============================] - 87s 186ms/step - loss: 0.0927 - val_loss: 0.0929\n",
      "Epoch 54/100\n",
      "469/469 [==============================] - 114s 243ms/step - loss: 0.0927 - val_loss: 0.0928\n",
      "Epoch 55/100\n",
      "469/469 [==============================] - 123s 263ms/step - loss: 0.0927 - val_loss: 0.0929\n",
      "Epoch 56/100\n",
      "469/469 [==============================] - 126s 268ms/step - loss: 0.0927 - val_loss: 0.0927\n",
      "Epoch 57/100\n",
      "469/469 [==============================] - 109s 232ms/step - loss: 0.0927 - val_loss: 0.0928\n",
      "Epoch 58/100\n",
      "469/469 [==============================] - 142s 303ms/step - loss: 0.0927 - val_loss: 0.0928\n",
      "Epoch 59/100\n",
      "469/469 [==============================] - 144s 307ms/step - loss: 0.0927 - val_loss: 0.0928\n",
      "Epoch 60/100\n",
      "469/469 [==============================] - 153s 326ms/step - loss: 0.0927 - val_loss: 0.0928\n",
      "Epoch 61/100\n",
      "469/469 [==============================] - 151s 322ms/step - loss: 0.0927 - val_loss: 0.0929\n",
      "Epoch 62/100\n",
      "469/469 [==============================] - 154s 328ms/step - loss: 0.0927 - val_loss: 0.0929\n",
      "Epoch 63/100\n",
      "469/469 [==============================] - 152s 325ms/step - loss: 0.0927 - val_loss: 0.0929\n",
      "Epoch 64/100\n",
      "469/469 [==============================] - 149s 319ms/step - loss: 0.0927 - val_loss: 0.0929\n",
      "Epoch 65/100\n",
      "469/469 [==============================] - 148s 315ms/step - loss: 0.0927 - val_loss: 0.0928\n",
      "Epoch 66/100\n",
      "469/469 [==============================] - 4200s 9s/step - loss: 0.0926 - val_loss: 0.0928\n",
      "Epoch 67/100\n",
      "469/469 [==============================] - 141s 300ms/step - loss: 0.0927 - val_loss: 0.0928\n",
      "Epoch 68/100\n",
      "469/469 [==============================] - 138s 294ms/step - loss: 0.0926 - val_loss: 0.0928\n",
      "Epoch 69/100\n",
      "469/469 [==============================] - 144s 306ms/step - loss: 0.0926 - val_loss: 0.0929\n",
      "Epoch 70/100\n",
      "469/469 [==============================] - 140s 297ms/step - loss: 0.0926 - val_loss: 0.0930\n",
      "Epoch 71/100\n",
      "469/469 [==============================] - 148s 316ms/step - loss: 0.0927 - val_loss: 0.0928\n",
      "Epoch 72/100\n",
      "469/469 [==============================] - 156s 333ms/step - loss: 0.0926 - val_loss: 0.0928\n",
      "Epoch 73/100\n",
      "469/469 [==============================] - 158s 336ms/step - loss: 0.0926 - val_loss: 0.0929\n",
      "Epoch 74/100\n",
      "469/469 [==============================] - 88s 186ms/step - loss: 0.0926 - val_loss: 0.0928\n",
      "Epoch 75/100\n",
      "469/469 [==============================] - 66s 140ms/step - loss: 0.0927 - val_loss: 0.0929\n",
      "Epoch 76/100\n",
      "469/469 [==============================] - 67s 142ms/step - loss: 0.0926 - val_loss: 0.0928\n",
      "Epoch 77/100\n",
      "469/469 [==============================] - 68s 144ms/step - loss: 0.0926 - val_loss: 0.0927\n",
      "Epoch 78/100\n",
      "469/469 [==============================] - 70s 149ms/step - loss: 0.0926 - val_loss: 0.0928\n",
      "Epoch 79/100\n",
      "469/469 [==============================] - 71s 152ms/step - loss: 0.0926 - val_loss: 0.0928\n",
      "Epoch 80/100\n",
      "469/469 [==============================] - 72s 153ms/step - loss: 0.0926 - val_loss: 0.0927\n",
      "Epoch 81/100\n",
      "469/469 [==============================] - 72s 155ms/step - loss: 0.0926 - val_loss: 0.0930\n",
      "Epoch 82/100\n",
      "469/469 [==============================] - 74s 157ms/step - loss: 0.0926 - val_loss: 0.0927\n",
      "Epoch 83/100\n",
      "469/469 [==============================] - 75s 160ms/step - loss: 0.0926 - val_loss: 0.0927\n",
      "Epoch 84/100\n",
      "469/469 [==============================] - 75s 159ms/step - loss: 0.0926 - val_loss: 0.0927\n",
      "Epoch 85/100\n",
      "469/469 [==============================] - 86s 182ms/step - loss: 0.0926 - val_loss: 0.0927\n",
      "Epoch 86/100\n",
      "469/469 [==============================] - 81s 172ms/step - loss: 0.0926 - val_loss: 0.0927\n",
      "Epoch 87/100\n",
      "469/469 [==============================] - 90s 191ms/step - loss: 0.0926 - val_loss: 0.0928\n",
      "Epoch 88/100\n",
      "469/469 [==============================] - 88s 188ms/step - loss: 0.0926 - val_loss: 0.0929\n",
      "Epoch 89/100\n",
      "469/469 [==============================] - 84s 178ms/step - loss: 0.0926 - val_loss: 0.0934\n",
      "Epoch 90/100\n",
      "469/469 [==============================] - 88s 187ms/step - loss: 0.0926 - val_loss: 0.0927\n",
      "Epoch 91/100\n",
      "469/469 [==============================] - 72s 153ms/step - loss: 0.0926 - val_loss: 0.0928\n",
      "Epoch 92/100\n",
      "469/469 [==============================] - 72s 154ms/step - loss: 0.0926 - val_loss: 0.0927\n",
      "Epoch 93/100\n",
      "469/469 [==============================] - 71s 152ms/step - loss: 0.0926 - val_loss: 0.0931\n",
      "Epoch 94/100\n",
      "469/469 [==============================] - 72s 153ms/step - loss: 0.0926 - val_loss: 0.0928\n",
      "Epoch 95/100\n",
      "469/469 [==============================] - 72s 153ms/step - loss: 0.0926 - val_loss: 0.0927\n",
      "Epoch 96/100\n",
      "469/469 [==============================] - 72s 153ms/step - loss: 0.0925 - val_loss: 0.0929\n",
      "Epoch 97/100\n",
      "469/469 [==============================] - 76s 161ms/step - loss: 0.0926 - val_loss: 0.0928\n",
      "Epoch 98/100\n",
      "469/469 [==============================] - 76s 161ms/step - loss: 0.0926 - val_loss: 0.0928\n",
      "Epoch 99/100\n",
      "469/469 [==============================] - 77s 165ms/step - loss: 0.0926 - val_loss: 0.0927\n",
      "Epoch 100/100\n",
      "469/469 [==============================] - 74s 158ms/step - loss: 0.0926 - val_loss: 0.0927\n"
     ]
    }
   ],
   "source": [
    "from tensorflow.keras.callbacks import TensorBoard\n",
    "\n",
    "history = autoencoder.fit(x_train_noisy, x_train,\n",
    "                epochs=100,\n",
    "                batch_size=128,\n",
    "                shuffle=True,\n",
    "                validation_data=(x_test_noisy, x_test),\n",
    "                callbacks=[TensorBoard(log_dir='/tmp/tb', histogram_freq=0, write_graph=False)])"
   ]
  },
  {
   "cell_type": "code",
   "execution_count": 22,
   "id": "ea42a5bf-7cd4-4863-9d6c-d9ccbd948966",
   "metadata": {},
   "outputs": [
    {
     "data": {
      "text/plain": [
       "[<matplotlib.lines.Line2D at 0x1df9b0e3450>]"
      ]
     },
     "execution_count": 22,
     "metadata": {},
     "output_type": "execute_result"
    },
    {
     "data": {
      "image/png": "[encoded data removed]",
      "text/plain": [
       "<Figure size 640x480 with 1 Axes>"
      ]
     },
     "metadata": {},
     "output_type": "display_data"
    }
   ],
   "source": [
    "import matplotlib.pyplot as plt\n",
    "\n",
    "plt.plot(history.history['loss'])\n",
    "plt.plot(history.history['val_loss'])"
   ]
  }
 ],
 "metadata": {
  "kernelspec": {
   "display_name": "Python 3 (ipykernel)",
   "language": "python",
   "name": "python3"
  },
  "language_info": {
   "codemirror_mode": {
    "name": "ipython",
    "version": 3
   },
   "file_extension": ".py",
   "mimetype": "text/x-python",
   "name": "python",
   "nbconvert_exporter": "python",
   "pygments_lexer": "ipython3",
   "version": "3.11.5"
  },
  "widgets": {
   "application/vnd.jupyter.widget-state+json": {
    "state": {},
    "version_major": 2,
    "version_minor": 0
   }
  }
 },
 "nbformat": 4,
 "nbformat_minor": 5
}
