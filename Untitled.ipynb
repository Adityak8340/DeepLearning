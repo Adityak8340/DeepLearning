{
 "cells": [
  {
   "cell_type": "code",
   "execution_count": 1,
   "id": "5af72961-6541-4a5c-9bda-a0f2f162b925",
   "metadata": {},
   "outputs": [],
   "source": [
    "import numpy as np\n",
    "import pandas as pd\n",
    "import keras_tuner\n",
    "import tensorflow\n",
    "from tensorflow import keras\n",
    "from tensorflow.keras.preprocessing.image import load_img"
   ]
  },
  {
   "cell_type": "code",
   "execution_count": null,
   "id": "f8053623-5ce2-454a-830c-97b5d7494c8b",
   "metadata": {},
   "outputs": [],
   "source": [
    "import os\n",
    "import random\n",
    "import matplotlib.pyplot as plt\n",
    "import matplotlib.image as mpimg\n",
    "image_directory = '/kaggle/input/dogs-vs-cats/train/cats'\n",
    "image_directory2 = '/kaggle/input/dogs-vs-cats/train/dogs'\n",
    "image_files = [os.path.join(image_directory, filename) for filename in os.listdir(image_directory)]\n",
    "image_files2 = [os.path.join(image_directory2,filename) for filename in os.listdir(image_directory2)]\n",
    "num_samples = 3  \n",
    "selected_images = random.sample(image_files, num_samples)\n",
    "selected_images2 = random.sample(image_files2,num_samples)\n",
    "# Create subplots for displaying images\n",
    "fig, axes = plt.subplots(2, num_samples, figsize=(20,14))\n",
    "\n",
    "# Display each selected image\n",
    "for i, image_path in enumerate(selected_images):\n",
    "    ax = axes[0,i]\n",
    "    img = mpimg.imread(image_path)\n",
    "    ax.imshow(img)\n",
    "    ax.axis()\n",
    "for i, image_path in enumerate(selected_images2):\n",
    "    ax = axes[1,i]\n",
    "    img = mpimg.imread(image_path)\n",
    "    ax.imshow(img)\n",
    "    ax.axis()\n",
    "# Show the images\n",
    "plt.show()"
   ]
  },
  {
   "cell_type": "code",
   "execution_count": null,
   "id": "2489d67c-6253-4ea9-9352-61b524b08aab",
   "metadata": {},
   "outputs": [],
   "source": [
    "train_data = keras.utils.image_dataset_from_directory(directory= '/kaggle/input/dogs-vs-cats/train',\n",
    "                                                     labels= 'inferred',\n",
    "                                                     label_mode= 'int',\n",
    "                                                     color_mode='rgb',\n",
    "                                                     batch_size= 32,\n",
    "                                                     image_size=(256,256))\n",
    "\n",
    "validation_data = keras.utils.image_dataset_from_directory(directory= '/kaggle/input/dogs-vs-cats/test',\n",
    "                                                    labels = 'inferred',\n",
    "                                                    label_mode= 'int',\n",
    "                                                    color_mode= 'rgb',\n",
    "                                                    batch_size= 32,\n",
    "                                                    image_size=(256,256))"
   ]
  }
 ],
 "metadata": {
  "kernelspec": {
   "display_name": "Python 3 (ipykernel)",
   "language": "python",
   "name": "python3"
  },
  "language_info": {
   "codemirror_mode": {
    "name": "ipython",
    "version": 3
   },
   "file_extension": ".py",
   "mimetype": "text/x-python",
   "name": "python",
   "nbconvert_exporter": "python",
   "pygments_lexer": "ipython3",
   "version": "3.11.5"
  },
  "widgets": {
   "application/vnd.jupyter.widget-state+json": {
    "state": {},
    "version_major": 2,
    "version_minor": 0
   }
  }
 },
 "nbformat": 4,
 "nbformat_minor": 5
}
