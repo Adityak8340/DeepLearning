{
 "cells": [
  {
   "cell_type": "markdown",
   "id": "28b88dc6",
   "metadata": {},
   "source": [
    "We'll start simple, with a single fully-connected neural layer as encoder and as decoder:"
   ]
  },
  {
   "cell_type": "code",
   "execution_count": 5,
   "id": "15e84a7e",
   "metadata": {},
   "outputs": [],
   "source": [
    "import keras\n",
    "from keras import layers\n",
    "\n",
    "# This is the size of our encoded representations\n",
    "encoding_dim = 32  # 32 floats -> compression of factor 24.5, assuming the input is 784 floats\n",
    "\n",
    "# This is our input image\n",
    "input_img = keras.Input(shape=(784,))\n",
    "# \"encoded\" is the encoded representation of the input\n",
    "encoded = layers.Dense(encoding_dim, activation='relu')(input_img)\n",
    "# \"decoded\" is the lossy reconstruction of the input\n",
    "decoded = layers.Dense(784, activation='sigmoid')(encoded)\n",
    "\n",
    "# This model maps an input to its reconstruction\n",
    "autoencoder = keras.Model(input_img, decoded)"
   ]
  },
  {
   "cell_type": "markdown",
   "id": "687dfffd",
   "metadata": {},
   "source": [
    "Let's also create a separate encoder model:"
   ]
  },
  {
   "cell_type": "code",
   "execution_count": 8,
   "id": "0316fd46",
   "metadata": {},
   "outputs": [],
   "source": [
    "# This model maps an input to its encoded representation\n",
    "encoder = keras.Model(input_img, encoded)"
   ]
  },
  {
   "cell_type": "markdown",
   "id": "3cbb6014",
   "metadata": {},
   "source": [
    "As well as the decoder model:"
   ]
  },
  {
   "cell_type": "code",
   "execution_count": 9,
   "id": "cce901a7",
   "metadata": {},
   "outputs": [],
   "source": [
    "# This is our encoded (32-dimensional) input\n",
    "encoded_input = keras.Input(shape=(encoding_dim,))\n",
    "# Retrieve the last layer of the autoencoder model\n",
    "decoder_layer = autoencoder.layers[-1]\n",
    "# Create the decoder model\n",
    "decoder = keras.Model(encoded_input, decoder_layer(encoded_input))"
   ]
  },
  {
   "cell_type": "markdown",
   "id": "fbec1f94",
   "metadata": {},
   "source": [
    "Now let's train our autoencoder to reconstruct MNIST digits.\n",
    "\n",
    "First, we'll configure our model to use a per-pixel binary crossentropy loss, and the Adam optimizer:"
   ]
  },
  {
   "cell_type": "code",
   "execution_count": 10,
   "id": "25ef28b6",
   "metadata": {},
   "outputs": [],
   "source": [
    "autoencoder.compile(optimizer='adam', loss='binary_crossentropy')"
   ]
  },
  {
   "cell_type": "markdown",
   "id": "979eff51",
   "metadata": {},
   "source": [
    "Let's prepare our input data. We're using MNIST digits, and we're discarding the labels (since we're only interested in encoding/decoding the input images)."
   ]
  },
  {
   "cell_type": "code",
   "execution_count": 11,
   "id": "f9fc1adb",
   "metadata": {},
   "outputs": [],
   "source": [
    "from keras.datasets import mnist\n",
    "import numpy as np\n",
    "(x_train, _), (x_test, _) = mnist.load_data()"
   ]
  },
  {
   "cell_type": "markdown",
   "id": "b684c835",
   "metadata": {},
   "source": [
    "We will normalize all values between 0 and 1 and we will flatten the 28x28 images into vectors of size 784."
   ]
  },
  {
   "cell_type": "code",
   "execution_count": 12,
   "id": "a9c90972",
   "metadata": {},
   "outputs": [
    {
     "name": "stdout",
     "output_type": "stream",
     "text": [
      "(60000, 784)\n",
      "(10000, 784)\n"
     ]
    }
   ],
   "source": [
    "x_train = x_train.astype('float32') / 255.\n",
    "x_test = x_test.astype('float32') / 255.\n",
    "x_train = x_train.reshape((len(x_train), np.prod(x_train.shape[1:])))\n",
    "x_test = x_test.reshape((len(x_test), np.prod(x_test.shape[1:])))\n",
    "print(x_train.shape)\n",
    "print(x_test.shape)"
   ]
  },
  {
   "cell_type": "markdown",
   "id": "dc6156c1",
   "metadata": {},
   "source": [
    "Now let's train our autoencoder for 50 epochs:"
   ]
  },
  {
   "cell_type": "code",
   "execution_count": 13,
   "id": "ef4708ce",
   "metadata": {},
   "outputs": [
    {
     "name": "stdout",
     "output_type": "stream",
     "text": [
      "Epoch 1/50\n",
      "235/235 [==============================] - 2s 7ms/step - loss: 0.2740 - val_loss: 0.1890\n",
      "Epoch 2/50\n",
      "235/235 [==============================] - 3s 12ms/step - loss: 0.1710 - val_loss: 0.1535\n",
      "Epoch 3/50\n",
      "235/235 [==============================] - 3s 12ms/step - loss: 0.1445 - val_loss: 0.1338\n",
      "Epoch 4/50\n",
      "235/235 [==============================] - 3s 12ms/step - loss: 0.1284 - val_loss: 0.1207\n",
      "Epoch 5/50\n",
      "235/235 [==============================] - 3s 13ms/step - loss: 0.1175 - val_loss: 0.1121\n",
      "Epoch 6/50\n",
      "235/235 [==============================] - 4s 15ms/step - loss: 0.1102 - val_loss: 0.1061\n",
      "Epoch 7/50\n",
      "235/235 [==============================] - 3s 14ms/step - loss: 0.1052 - val_loss: 0.1018\n",
      "Epoch 8/50\n",
      "235/235 [==============================] - 3s 13ms/step - loss: 0.1015 - val_loss: 0.0987\n",
      "Epoch 9/50\n",
      "235/235 [==============================] - 3s 13ms/step - loss: 0.0989 - val_loss: 0.0968\n",
      "Epoch 10/50\n",
      "235/235 [==============================] - 3s 13ms/step - loss: 0.0971 - val_loss: 0.0952\n",
      "Epoch 11/50\n",
      "235/235 [==============================] - 3s 14ms/step - loss: 0.0959 - val_loss: 0.0942\n",
      "Epoch 12/50\n",
      "235/235 [==============================] - 3s 12ms/step - loss: 0.0951 - val_loss: 0.0936\n",
      "Epoch 13/50\n",
      "235/235 [==============================] - 2s 7ms/step - loss: 0.0947 - val_loss: 0.0932\n",
      "Epoch 14/50\n",
      "235/235 [==============================] - 2s 9ms/step - loss: 0.0943 - val_loss: 0.0929\n",
      "Epoch 15/50\n",
      "235/235 [==============================] - 2s 8ms/step - loss: 0.0940 - val_loss: 0.0927\n",
      "Epoch 16/50\n",
      "235/235 [==============================] - 2s 9ms/step - loss: 0.0939 - val_loss: 0.0925\n",
      "Epoch 17/50\n",
      "235/235 [==============================] - 2s 9ms/step - loss: 0.0937 - val_loss: 0.0924\n",
      "Epoch 18/50\n",
      "235/235 [==============================] - 2s 8ms/step - loss: 0.0936 - val_loss: 0.0923\n",
      "Epoch 19/50\n",
      "235/235 [==============================] - 2s 8ms/step - loss: 0.0935 - val_loss: 0.0922\n",
      "Epoch 20/50\n",
      "235/235 [==============================] - 2s 8ms/step - loss: 0.0934 - val_loss: 0.0921\n",
      "Epoch 21/50\n",
      "235/235 [==============================] - 2s 8ms/step - loss: 0.0933 - val_loss: 0.0920\n",
      "Epoch 22/50\n",
      "235/235 [==============================] - 2s 8ms/step - loss: 0.0932 - val_loss: 0.0921\n",
      "Epoch 23/50\n",
      "235/235 [==============================] - 2s 8ms/step - loss: 0.0932 - val_loss: 0.0919\n",
      "Epoch 24/50\n",
      "235/235 [==============================] - 2s 8ms/step - loss: 0.0931 - val_loss: 0.0920\n",
      "Epoch 25/50\n",
      "235/235 [==============================] - 2s 9ms/step - loss: 0.0931 - val_loss: 0.0919\n",
      "Epoch 26/50\n",
      "235/235 [==============================] - 2s 8ms/step - loss: 0.0930 - val_loss: 0.0919\n",
      "Epoch 27/50\n",
      "235/235 [==============================] - 3s 12ms/step - loss: 0.0930 - val_loss: 0.0917\n",
      "Epoch 28/50\n",
      "235/235 [==============================] - 2s 11ms/step - loss: 0.0930 - val_loss: 0.0918\n",
      "Epoch 29/50\n",
      "235/235 [==============================] - 2s 10ms/step - loss: 0.0929 - val_loss: 0.0917\n",
      "Epoch 30/50\n",
      "235/235 [==============================] - 2s 10ms/step - loss: 0.0929 - val_loss: 0.0917\n",
      "Epoch 31/50\n",
      "235/235 [==============================] - 3s 13ms/step - loss: 0.0929 - val_loss: 0.0917\n",
      "Epoch 32/50\n",
      "235/235 [==============================] - 3s 12ms/step - loss: 0.0929 - val_loss: 0.0918\n",
      "Epoch 33/50\n",
      "235/235 [==============================] - 3s 11ms/step - loss: 0.0929 - val_loss: 0.0917\n",
      "Epoch 34/50\n",
      "235/235 [==============================] - 2s 10ms/step - loss: 0.0928 - val_loss: 0.0917\n",
      "Epoch 35/50\n",
      "235/235 [==============================] - 2s 10ms/step - loss: 0.0928 - val_loss: 0.0917\n",
      "Epoch 36/50\n",
      "235/235 [==============================] - 2s 9ms/step - loss: 0.0928 - val_loss: 0.0917\n",
      "Epoch 37/50\n",
      "235/235 [==============================] - 2s 8ms/step - loss: 0.0928 - val_loss: 0.0917\n",
      "Epoch 38/50\n",
      "235/235 [==============================] - 2s 9ms/step - loss: 0.0928 - val_loss: 0.0917\n",
      "Epoch 39/50\n",
      "235/235 [==============================] - 2s 11ms/step - loss: 0.0927 - val_loss: 0.0916\n",
      "Epoch 40/50\n",
      "235/235 [==============================] - 2s 7ms/step - loss: 0.0927 - val_loss: 0.0917\n",
      "Epoch 41/50\n",
      "235/235 [==============================] - 2s 7ms/step - loss: 0.0927 - val_loss: 0.0916\n",
      "Epoch 42/50\n",
      "235/235 [==============================] - 2s 7ms/step - loss: 0.0927 - val_loss: 0.0915\n",
      "Epoch 43/50\n",
      "235/235 [==============================] - 2s 7ms/step - loss: 0.0927 - val_loss: 0.0915\n",
      "Epoch 44/50\n",
      "235/235 [==============================] - 2s 10ms/step - loss: 0.0927 - val_loss: 0.0916\n",
      "Epoch 45/50\n",
      "235/235 [==============================] - 2s 8ms/step - loss: 0.0927 - val_loss: 0.0915\n",
      "Epoch 46/50\n",
      "235/235 [==============================] - 2s 10ms/step - loss: 0.0927 - val_loss: 0.0915\n",
      "Epoch 47/50\n",
      "235/235 [==============================] - 2s 9ms/step - loss: 0.0927 - val_loss: 0.0916\n",
      "Epoch 48/50\n",
      "235/235 [==============================] - 2s 8ms/step - loss: 0.0926 - val_loss: 0.0915\n",
      "Epoch 49/50\n",
      "235/235 [==============================] - 2s 9ms/step - loss: 0.0926 - val_loss: 0.0916\n",
      "Epoch 50/50\n",
      "235/235 [==============================] - 2s 8ms/step - loss: 0.0926 - val_loss: 0.0915\n"
     ]
    },
    {
     "data": {
      "text/plain": [
       "<keras.callbacks.History at 0x2373bee93f0>"
      ]
     },
     "execution_count": 13,
     "metadata": {},
     "output_type": "execute_result"
    }
   ],
   "source": [
    "autoencoder.fit(x_train, x_train,\n",
    "                epochs=50,\n",
    "                batch_size=256,\n",
    "                shuffle=True,\n",
    "                validation_data=(x_test, x_test))"
   ]
  },
  {
   "cell_type": "markdown",
   "id": "973d8608",
   "metadata": {},
   "source": [
    "After 50 epochs, the autoencoder seems to reach a stable train/validation loss value of about 0.09. We can try to visualize the reconstructed inputs and the encoded representations. We will use Matplotlib."
   ]
  },
  {
   "cell_type": "code",
   "execution_count": 14,
   "id": "13e9607d",
   "metadata": {},
   "outputs": [
    {
     "name": "stdout",
     "output_type": "stream",
     "text": [
      "313/313 [==============================] - 1s 2ms/step\n",
      "313/313 [==============================] - 1s 2ms/step\n"
     ]
    }
   ],
   "source": [
    "# Encode and decode some digits\n",
    "# Note that we take them from the *test* set\n",
    "encoded_imgs = encoder.predict(x_test)\n",
    "decoded_imgs = decoder.predict(encoded_imgs)"
   ]
  },
  {
   "cell_type": "code",
   "execution_count": null,
   "id": "6ac7af06",
   "metadata": {},
   "outputs": [],
   "source": [
    "# Use Matplotlib (don't ask)\n",
    "import matplotlib.pyplot as plt\n",
    "\n",
    "n = 10  # How many digits we will display\n",
    "plt.figure(figsize=(20, 4))\n",
    "for i in range(n):\n",
    "    # Display original\n",
    "    ax = plt.subplot(2, n, i + 1)\n",
    "    plt.imshow(x_test[i].reshape(28, 28))\n",
    "    plt.gray()\n",
    "    ax.get_xaxis().set_visible(False)\n",
    "    ax.get_yaxis().set_visible(False)\n",
    "\n",
    "    # Display reconstruction\n",
    "    ax = plt.subplot(2, n, i + 1 + n)\n",
    "    plt.imshow(decoded_imgs[i].reshape(28, 28))\n",
    "    plt.gray()\n",
    "    ax.get_xaxis().set_visible(False)\n",
    "    ax.get_yaxis().set_visible(False)\n",
    "plt.show()"
   ]
  },
  {
   "cell_type": "code",
   "execution_count": 3,
   "id": "f6701803",
   "metadata": {},
   "outputs": [
    {
     "name": "stdout",
     "output_type": "stream",
     "text": [
      "^C\n"
     ]
    }
   ],
   "source": [
    "!pip uninstall matplotlib"
   ]
  },
  {
   "cell_type": "markdown",
   "id": "c31aa842",
   "metadata": {},
   "source": [
    "Deep autoencoder"
   ]
  },
  {
   "cell_type": "code",
   "execution_count": 6,
   "id": "61ab82d8",
   "metadata": {},
   "outputs": [],
   "source": [
    "input_img = keras.Input(shape=(784,))\n",
    "encoded = layers.Dense(128, activation='relu')(input_img)\n",
    "encoded = layers.Dense(64, activation='relu')(encoded)\n",
    "encoded = layers.Dense(32, activation='relu')(encoded)\n",
    "\n",
    "decoded = layers.Dense(64, activation='relu')(encoded)\n",
    "decoded = layers.Dense(128, activation='relu')(decoded)\n",
    "decoded = layers.Dense(784, activation='sigmoid')(decoded)"
   ]
  },
  {
   "cell_type": "code",
   "execution_count": 10,
   "id": "f876b2d0",
   "metadata": {},
   "outputs": [],
   "source": [
    "from keras.datasets import mnist\n",
    "import numpy as np\n",
    "(x_train, _), (x_test, _) = mnist.load_data()"
   ]
  },
  {
   "cell_type": "code",
   "execution_count": 11,
   "id": "dd38b274",
   "metadata": {},
   "outputs": [
    {
     "name": "stdout",
     "output_type": "stream",
     "text": [
      "(60000, 784)\n",
      "(10000, 784)\n"
     ]
    }
   ],
   "source": [
    "x_train = x_train.astype('float32') / 255.\n",
    "x_test = x_test.astype('float32') / 255.\n",
    "x_train = x_train.reshape((len(x_train), np.prod(x_train.shape[1:])))\n",
    "x_test = x_test.reshape((len(x_test), np.prod(x_test.shape[1:])))\n",
    "print(x_train.shape)\n",
    "print(x_test.shape)"
   ]
  },
  {
   "cell_type": "code",
   "execution_count": 12,
   "id": "68cd67a0",
   "metadata": {},
   "outputs": [
    {
     "name": "stdout",
     "output_type": "stream",
     "text": [
      "Epoch 1/100\n",
      "235/235 [==============================] - 4s 15ms/step - loss: 0.2570 - val_loss: 0.1764\n",
      "Epoch 2/100\n",
      "235/235 [==============================] - 4s 15ms/step - loss: 0.1552 - val_loss: 0.1389\n",
      "Epoch 3/100\n",
      "235/235 [==============================] - 4s 15ms/step - loss: 0.1341 - val_loss: 0.1266\n",
      "Epoch 4/100\n",
      "235/235 [==============================] - 4s 15ms/step - loss: 0.1246 - val_loss: 0.1202\n",
      "Epoch 5/100\n",
      "235/235 [==============================] - 5s 20ms/step - loss: 0.1192 - val_loss: 0.1153\n",
      "Epoch 6/100\n",
      "235/235 [==============================] - 3s 15ms/step - loss: 0.1151 - val_loss: 0.1121\n",
      "Epoch 7/100\n",
      "235/235 [==============================] - 3s 14ms/step - loss: 0.1118 - val_loss: 0.1089\n",
      "Epoch 8/100\n",
      "235/235 [==============================] - 3s 12ms/step - loss: 0.1089 - val_loss: 0.1067\n",
      "Epoch 9/100\n",
      "235/235 [==============================] - 3s 13ms/step - loss: 0.1065 - val_loss: 0.1040\n",
      "Epoch 10/100\n",
      "235/235 [==============================] - 3s 13ms/step - loss: 0.1045 - val_loss: 0.1028\n",
      "Epoch 11/100\n",
      "235/235 [==============================] - 3s 14ms/step - loss: 0.1028 - val_loss: 0.1010\n",
      "Epoch 12/100\n",
      "235/235 [==============================] - 3s 14ms/step - loss: 0.1014 - val_loss: 0.0998\n",
      "Epoch 13/100\n",
      "235/235 [==============================] - 3s 13ms/step - loss: 0.1000 - val_loss: 0.0988\n",
      "Epoch 14/100\n",
      "235/235 [==============================] - 3s 13ms/step - loss: 0.0990 - val_loss: 0.0976\n",
      "Epoch 15/100\n",
      "235/235 [==============================] - 3s 13ms/step - loss: 0.0980 - val_loss: 0.0965\n",
      "Epoch 16/100\n",
      "235/235 [==============================] - 3s 12ms/step - loss: 0.0972 - val_loss: 0.0958\n",
      "Epoch 17/100\n",
      "235/235 [==============================] - 3s 12ms/step - loss: 0.0964 - val_loss: 0.0956\n",
      "Epoch 18/100\n",
      "235/235 [==============================] - 3s 11ms/step - loss: 0.0957 - val_loss: 0.0945\n",
      "Epoch 19/100\n",
      "235/235 [==============================] - 3s 11ms/step - loss: 0.0951 - val_loss: 0.0942\n",
      "Epoch 20/100\n",
      "235/235 [==============================] - 3s 11ms/step - loss: 0.0945 - val_loss: 0.0935\n",
      "Epoch 21/100\n",
      "235/235 [==============================] - 3s 11ms/step - loss: 0.0939 - val_loss: 0.0928\n",
      "Epoch 22/100\n",
      "235/235 [==============================] - 3s 12ms/step - loss: 0.0934 - val_loss: 0.0926\n",
      "Epoch 23/100\n",
      "235/235 [==============================] - 3s 12ms/step - loss: 0.0930 - val_loss: 0.0922\n",
      "Epoch 24/100\n",
      "235/235 [==============================] - 3s 13ms/step - loss: 0.0926 - val_loss: 0.0918\n",
      "Epoch 25/100\n",
      "235/235 [==============================] - 3s 12ms/step - loss: 0.0923 - val_loss: 0.0914\n",
      "Epoch 26/100\n",
      "235/235 [==============================] - 3s 12ms/step - loss: 0.0919 - val_loss: 0.0910\n",
      "Epoch 27/100\n",
      "235/235 [==============================] - 3s 12ms/step - loss: 0.0916 - val_loss: 0.0910\n",
      "Epoch 28/100\n",
      "235/235 [==============================] - 3s 12ms/step - loss: 0.0914 - val_loss: 0.0904\n",
      "Epoch 29/100\n",
      "235/235 [==============================] - 3s 12ms/step - loss: 0.0910 - val_loss: 0.0903\n",
      "Epoch 30/100\n",
      "235/235 [==============================] - 3s 12ms/step - loss: 0.0908 - val_loss: 0.0901\n",
      "Epoch 31/100\n",
      "235/235 [==============================] - 3s 12ms/step - loss: 0.0906 - val_loss: 0.0901\n",
      "Epoch 32/100\n",
      "235/235 [==============================] - 3s 13ms/step - loss: 0.0904 - val_loss: 0.0897\n",
      "Epoch 33/100\n",
      "235/235 [==============================] - 3s 13ms/step - loss: 0.0902 - val_loss: 0.0898\n",
      "Epoch 34/100\n",
      "235/235 [==============================] - 3s 12ms/step - loss: 0.0900 - val_loss: 0.0895\n",
      "Epoch 35/100\n",
      "235/235 [==============================] - 3s 12ms/step - loss: 0.0898 - val_loss: 0.0894\n",
      "Epoch 36/100\n",
      "235/235 [==============================] - 3s 13ms/step - loss: 0.0896 - val_loss: 0.0892\n",
      "Epoch 37/100\n",
      "235/235 [==============================] - 3s 13ms/step - loss: 0.0895 - val_loss: 0.0891\n",
      "Epoch 38/100\n",
      "235/235 [==============================] - 3s 12ms/step - loss: 0.0893 - val_loss: 0.0888\n",
      "Epoch 39/100\n",
      "235/235 [==============================] - 3s 12ms/step - loss: 0.0891 - val_loss: 0.0888\n",
      "Epoch 40/100\n",
      "235/235 [==============================] - 3s 12ms/step - loss: 0.0889 - val_loss: 0.0888\n",
      "Epoch 41/100\n",
      "235/235 [==============================] - 3s 12ms/step - loss: 0.0888 - val_loss: 0.0885\n",
      "Epoch 42/100\n",
      "235/235 [==============================] - 3s 12ms/step - loss: 0.0885 - val_loss: 0.0880\n",
      "Epoch 43/100\n",
      "235/235 [==============================] - 3s 12ms/step - loss: 0.0883 - val_loss: 0.0880\n",
      "Epoch 44/100\n",
      "235/235 [==============================] - 3s 12ms/step - loss: 0.0881 - val_loss: 0.0880\n",
      "Epoch 45/100\n",
      "235/235 [==============================] - 3s 13ms/step - loss: 0.0878 - val_loss: 0.0873\n",
      "Epoch 46/100\n",
      "235/235 [==============================] - 3s 13ms/step - loss: 0.0877 - val_loss: 0.0872\n",
      "Epoch 47/100\n",
      "235/235 [==============================] - 3s 14ms/step - loss: 0.0875 - val_loss: 0.0869\n",
      "Epoch 48/100\n",
      "235/235 [==============================] - 3s 12ms/step - loss: 0.0873 - val_loss: 0.0869\n",
      "Epoch 49/100\n",
      "235/235 [==============================] - 4s 16ms/step - loss: 0.0872 - val_loss: 0.0867\n",
      "Epoch 50/100\n",
      "235/235 [==============================] - 4s 16ms/step - loss: 0.0871 - val_loss: 0.0868\n",
      "Epoch 51/100\n",
      "235/235 [==============================] - 4s 15ms/step - loss: 0.0870 - val_loss: 0.0864\n",
      "Epoch 52/100\n",
      "235/235 [==============================] - 3s 12ms/step - loss: 0.0868 - val_loss: 0.0864\n",
      "Epoch 53/100\n",
      "235/235 [==============================] - 3s 13ms/step - loss: 0.0867 - val_loss: 0.0866\n",
      "Epoch 54/100\n",
      "235/235 [==============================] - 3s 13ms/step - loss: 0.0867 - val_loss: 0.0862\n",
      "Epoch 55/100\n",
      "235/235 [==============================] - 3s 13ms/step - loss: 0.0866 - val_loss: 0.0861\n",
      "Epoch 56/100\n",
      "235/235 [==============================] - 3s 12ms/step - loss: 0.0865 - val_loss: 0.0861\n",
      "Epoch 57/100\n",
      "235/235 [==============================] - 3s 13ms/step - loss: 0.0864 - val_loss: 0.0861\n",
      "Epoch 58/100\n",
      "235/235 [==============================] - 3s 12ms/step - loss: 0.0862 - val_loss: 0.0860\n",
      "Epoch 59/100\n",
      "235/235 [==============================] - 3s 12ms/step - loss: 0.0862 - val_loss: 0.0859\n",
      "Epoch 60/100\n",
      "235/235 [==============================] - 3s 12ms/step - loss: 0.0861 - val_loss: 0.0860\n",
      "Epoch 61/100\n",
      "235/235 [==============================] - 3s 12ms/step - loss: 0.0861 - val_loss: 0.0860\n",
      "Epoch 62/100\n",
      "235/235 [==============================] - 3s 13ms/step - loss: 0.0860 - val_loss: 0.0857\n",
      "Epoch 63/100\n",
      "235/235 [==============================] - 3s 14ms/step - loss: 0.0859 - val_loss: 0.0857\n",
      "Epoch 64/100\n",
      "235/235 [==============================] - 4s 17ms/step - loss: 0.0858 - val_loss: 0.0857\n",
      "Epoch 65/100\n",
      "235/235 [==============================] - 4s 15ms/step - loss: 0.0858 - val_loss: 0.0858\n",
      "Epoch 66/100\n",
      "235/235 [==============================] - 4s 15ms/step - loss: 0.0857 - val_loss: 0.0855\n",
      "Epoch 67/100\n",
      "235/235 [==============================] - 4s 16ms/step - loss: 0.0857 - val_loss: 0.0855\n",
      "Epoch 68/100\n",
      "235/235 [==============================] - 3s 14ms/step - loss: 0.0856 - val_loss: 0.0854\n",
      "Epoch 69/100\n",
      "235/235 [==============================] - 3s 14ms/step - loss: 0.0856 - val_loss: 0.0853\n",
      "Epoch 70/100\n",
      "235/235 [==============================] - 3s 15ms/step - loss: 0.0855 - val_loss: 0.0854\n",
      "Epoch 71/100\n",
      "235/235 [==============================] - 4s 17ms/step - loss: 0.0855 - val_loss: 0.0853\n",
      "Epoch 72/100\n",
      "235/235 [==============================] - 3s 13ms/step - loss: 0.0854 - val_loss: 0.0852\n",
      "Epoch 73/100\n",
      "235/235 [==============================] - 3s 12ms/step - loss: 0.0853 - val_loss: 0.0851\n",
      "Epoch 74/100\n",
      "235/235 [==============================] - 3s 12ms/step - loss: 0.0853 - val_loss: 0.0853\n",
      "Epoch 75/100\n",
      "235/235 [==============================] - 3s 12ms/step - loss: 0.0852 - val_loss: 0.0849\n",
      "Epoch 76/100\n",
      "235/235 [==============================] - 3s 12ms/step - loss: 0.0852 - val_loss: 0.0850\n",
      "Epoch 77/100\n",
      "235/235 [==============================] - 3s 12ms/step - loss: 0.0852 - val_loss: 0.0851\n",
      "Epoch 78/100\n",
      "235/235 [==============================] - 3s 12ms/step - loss: 0.0852 - val_loss: 0.0850\n",
      "Epoch 79/100\n",
      "235/235 [==============================] - 3s 12ms/step - loss: 0.0851 - val_loss: 0.0850\n",
      "Epoch 80/100\n",
      "235/235 [==============================] - 3s 12ms/step - loss: 0.0851 - val_loss: 0.0849\n",
      "Epoch 81/100\n",
      "235/235 [==============================] - 3s 12ms/step - loss: 0.0850 - val_loss: 0.0851\n",
      "Epoch 82/100\n",
      "235/235 [==============================] - 3s 13ms/step - loss: 0.0850 - val_loss: 0.0847\n",
      "Epoch 83/100\n",
      "235/235 [==============================] - 3s 13ms/step - loss: 0.0850 - val_loss: 0.0850\n",
      "Epoch 84/100\n",
      "235/235 [==============================] - 3s 13ms/step - loss: 0.0850 - val_loss: 0.0850\n",
      "Epoch 85/100\n",
      "235/235 [==============================] - 3s 13ms/step - loss: 0.0849 - val_loss: 0.0847\n",
      "Epoch 86/100\n",
      "235/235 [==============================] - 3s 12ms/step - loss: 0.0848 - val_loss: 0.0847\n",
      "Epoch 87/100\n",
      "235/235 [==============================] - 3s 13ms/step - loss: 0.0848 - val_loss: 0.0849\n",
      "Epoch 88/100\n",
      "235/235 [==============================] - 3s 12ms/step - loss: 0.0848 - val_loss: 0.0848\n",
      "Epoch 89/100\n",
      "235/235 [==============================] - 3s 12ms/step - loss: 0.0848 - val_loss: 0.0846\n",
      "Epoch 90/100\n",
      "235/235 [==============================] - 3s 13ms/step - loss: 0.0847 - val_loss: 0.0848\n",
      "Epoch 91/100\n",
      "235/235 [==============================] - 3s 14ms/step - loss: 0.0847 - val_loss: 0.0847\n",
      "Epoch 92/100\n",
      "235/235 [==============================] - 3s 13ms/step - loss: 0.0848 - val_loss: 0.0845\n",
      "Epoch 93/100\n",
      "235/235 [==============================] - 3s 12ms/step - loss: 0.0847 - val_loss: 0.0845\n",
      "Epoch 94/100\n",
      "235/235 [==============================] - 3s 12ms/step - loss: 0.0846 - val_loss: 0.0844\n",
      "Epoch 95/100\n",
      "235/235 [==============================] - 3s 12ms/step - loss: 0.0846 - val_loss: 0.0844\n",
      "Epoch 96/100\n",
      "235/235 [==============================] - 3s 13ms/step - loss: 0.0846 - val_loss: 0.0844\n",
      "Epoch 97/100\n",
      "235/235 [==============================] - 3s 13ms/step - loss: 0.0845 - val_loss: 0.0845\n",
      "Epoch 98/100\n",
      "235/235 [==============================] - 3s 12ms/step - loss: 0.0845 - val_loss: 0.0845\n",
      "Epoch 99/100\n",
      "235/235 [==============================] - 3s 12ms/step - loss: 0.0845 - val_loss: 0.0845\n",
      "Epoch 100/100\n",
      "235/235 [==============================] - 3s 11ms/step - loss: 0.0845 - val_loss: 0.0846\n"
     ]
    },
    {
     "data": {
      "text/plain": [
       "<keras.callbacks.History at 0x2c05dace320>"
      ]
     },
     "execution_count": 12,
     "metadata": {},
     "output_type": "execute_result"
    }
   ],
   "source": [
    "autoencoder = keras.Model(input_img, decoded)\n",
    "autoencoder.compile(optimizer='adam', loss='binary_crossentropy')\n",
    "\n",
    "autoencoder.fit(x_train, x_train,\n",
    "                epochs=100,\n",
    "                batch_size=256,\n",
    "                shuffle=True,\n",
    "                validation_data=(x_test, x_test))"
   ]
  },
  {
   "cell_type": "code",
   "execution_count": 14,
   "id": "cf2e3963",
   "metadata": {},
   "outputs": [
    {
     "ename": "NameError",
     "evalue": "name 'encoder' is not defined",
     "output_type": "error",
     "traceback": [
      "\u001b[1;31m---------------------------------------------------------------------------\u001b[0m",
      "\u001b[1;31mNameError\u001b[0m                                 Traceback (most recent call last)",
      "Cell \u001b[1;32mIn[14], line 3\u001b[0m\n\u001b[0;32m      1\u001b[0m \u001b[38;5;66;03m# Encode and decode some digits\u001b[39;00m\n\u001b[0;32m      2\u001b[0m \u001b[38;5;66;03m# Note that we take them from the *test* set\u001b[39;00m\n\u001b[1;32m----> 3\u001b[0m encoded_imgs \u001b[38;5;241m=\u001b[39m \u001b[43mencoder\u001b[49m\u001b[38;5;241m.\u001b[39mpredict(x_test)\n\u001b[0;32m      4\u001b[0m decoded_imgs \u001b[38;5;241m=\u001b[39m decoder\u001b[38;5;241m.\u001b[39mpredict(encoded_imgs)\n",
      "\u001b[1;31mNameError\u001b[0m: name 'encoder' is not defined"
     ]
    }
   ],
   "source": [
    "# Encode and decode some digits\n",
    "# Note that we take them from the *test* set\n",
    "encoded_imgs = encoder.predict(x_test)\n",
    "decoded_imgs = decoder.predict(encoded_imgs)"
   ]
  },
  {
   "cell_type": "code",
   "execution_count": null,
   "id": "3a686095",
   "metadata": {},
   "outputs": [
    {
     "ename": "NameError",
     "evalue": "name 'decoded_imgs' is not defined",
     "output_type": "error",
     "traceback": [
      "\u001b[1;31m---------------------------------------------------------------------------\u001b[0m",
      "\u001b[1;31mNameError\u001b[0m                                 Traceback (most recent call last)",
      "Cell \u001b[1;32mIn[15], line 16\u001b[0m\n\u001b[0;32m     14\u001b[0m \u001b[38;5;66;03m# Display reconstruction\u001b[39;00m\n\u001b[0;32m     15\u001b[0m ax \u001b[38;5;241m=\u001b[39m plt\u001b[38;5;241m.\u001b[39msubplot(\u001b[38;5;241m2\u001b[39m, n, i \u001b[38;5;241m+\u001b[39m \u001b[38;5;241m1\u001b[39m \u001b[38;5;241m+\u001b[39m n)\n\u001b[1;32m---> 16\u001b[0m plt\u001b[38;5;241m.\u001b[39mimshow(\u001b[43mdecoded_imgs\u001b[49m[i]\u001b[38;5;241m.\u001b[39mreshape(\u001b[38;5;241m28\u001b[39m, \u001b[38;5;241m28\u001b[39m))\n\u001b[0;32m     17\u001b[0m plt\u001b[38;5;241m.\u001b[39mgray()\n\u001b[0;32m     18\u001b[0m ax\u001b[38;5;241m.\u001b[39mget_xaxis()\u001b[38;5;241m.\u001b[39mset_visible(\u001b[38;5;28;01mFalse\u001b[39;00m)\n",
      "\u001b[1;31mNameError\u001b[0m: name 'decoded_imgs' is not defined"
     ]
    }
   ],
   "source": [
    "# Use Matplotlib (don't ask)\n",
    "import matplotlib.pyplot as plt\n",
    "\n",
    "n = 10  # How many digits we will display\n",
    "plt.figure(figsize=(20, 4))\n",
    "for i in range(n):\n",
    "    # Display original\n",
    "    ax = plt.subplot(2, n, i + 1)\n",
    "    plt.imshow(x_test[i].reshape(28, 28))\n",
    "    plt.gray()\n",
    "    ax.get_xaxis().set_visible(False)\n",
    "    ax.get_yaxis().set_visible(False)\n",
    "\n",
    "    # Display reconstruction\n",
    "    ax = plt.subplot(2, n, i + 1 + n)\n",
    "    plt.imshow(decoded_imgs[i].reshape(28, 28))\n",
    "    plt.gray()\n",
    "    ax.get_xaxis().set_visible(False)\n",
    "    ax.get_yaxis().set_visible(False)\n",
    "plt.show()"
   ]
  },
  {
   "cell_type": "markdown",
   "id": "a09eda73",
   "metadata": {},
   "source": [
    "Application to image denoising\n",
    "\n",
    "Let's put our convolutional autoencoder to work on an image denoising problem. It's simple: we will train the autoencoder to map noisy digits images to clean digits images.\n",
    "\n",
    "Here's how we will generate synthetic noisy digits: we just apply a gaussian noise matrix and clip the images between 0 and 1."
   ]
  },
  {
   "cell_type": "code",
   "execution_count": 13,
   "id": "8135fa98",
   "metadata": {},
   "outputs": [],
   "source": [
    "from keras.datasets import mnist\n",
    "import numpy as np\n",
    "\n",
    "(x_train, _), (x_test, _) = mnist.load_data()\n",
    "\n",
    "x_train = x_train.astype('float32') / 255.\n",
    "x_test = x_test.astype('float32') / 255.\n",
    "x_train = np.reshape(x_train, (len(x_train), 28, 28, 1))\n",
    "x_test = np.reshape(x_test, (len(x_test), 28, 28, 1))\n",
    "\n",
    "noise_factor = 0.5\n",
    "x_train_noisy = x_train + noise_factor * np.random.normal(loc=0.0, scale=1.0, size=x_train.shape) \n",
    "x_test_noisy = x_test + noise_factor * np.random.normal(loc=0.0, scale=1.0, size=x_test.shape) \n",
    "\n",
    "x_train_noisy = np.clip(x_train_noisy, 0., 1.)\n",
    "x_test_noisy = np.clip(x_test_noisy, 0., 1.)"
   ]
  },
  {
   "cell_type": "code",
   "execution_count": null,
   "id": "fab292c3",
   "metadata": {},
   "outputs": [],
   "source": [
    "n = 10\n",
    "plt.figure(figsize=(20, 2))\n",
    "for i in range(1, n + 1):\n",
    "    ax = plt.subplot(1, n, i)\n",
    "    plt.imshow(x_test_noisy[i].reshape(28, 28))\n",
    "    plt.gray()\n",
    "    ax.get_xaxis().set_visible(False)\n",
    "    ax.get_yaxis().set_visible(False)\n",
    "plt.show()"
   ]
  },
  {
   "cell_type": "code",
   "execution_count": null,
   "id": "18e6c8c7",
   "metadata": {},
   "outputs": [],
   "source": [
    "input_img = keras.Input(shape=(28, 28, 1))\n",
    "\n",
    "x = layers.Conv2D(32, (3, 3), activation='relu', padding='same')(input_img)\n",
    "x = layers.MaxPooling2D((2, 2), padding='same')(x)\n",
    "x = layers.Conv2D(32, (3, 3), activation='relu', padding='same')(x)\n",
    "encoded = layers.MaxPooling2D((2, 2), padding='same')(x)\n",
    "\n",
    "# At this point the representation is (7, 7, 32)\n",
    "\n",
    "x = layers.Conv2D(32, (3, 3), activation='relu', padding='same')(encoded)\n",
    "x = layers.UpSampling2D((2, 2))(x)\n",
    "x = layers.Conv2D(32, (3, 3), activation='relu', padding='same')(x)\n",
    "x = layers.UpSampling2D((2, 2))(x)\n",
    "decoded = layers.Conv2D(1, (3, 3), activation='sigmoid', padding='same')(x)\n",
    "\n",
    "autoencoder = keras.Model(input_img, decoded)\n",
    "autoencoder.compile(optimizer='adam', loss='binary_crossentropy')"
   ]
  },
  {
   "cell_type": "code",
   "execution_count": null,
   "id": "b89aa1ee",
   "metadata": {},
   "outputs": [],
   "source": [
    "autoencoder.fit(x_train_noisy, x_train,\n",
    "                epochs=100,\n",
    "                batch_size=128,\n",
    "                shuffle=True,\n",
    "                validation_data=(x_test_noisy, x_test),\n",
    "                callbacks=[TensorBoard(log_dir='/tmp/tb', histogram_freq=0, write_graph=False)])"
   ]
  }
 ],
 "metadata": {
  "kernelspec": {
   "display_name": "Python 3 (ipykernel)",
   "language": "python",
   "name": "python3"
  },
  "language_info": {
   "codemirror_mode": {
    "name": "ipython",
    "version": 3
   },
   "file_extension": ".py",
   "mimetype": "text/x-python",
   "name": "python",
   "nbconvert_exporter": "python",
   "pygments_lexer": "ipython3",
   "version": "3.10.13"
  }
 },
 "nbformat": 4,
 "nbformat_minor": 5
}
